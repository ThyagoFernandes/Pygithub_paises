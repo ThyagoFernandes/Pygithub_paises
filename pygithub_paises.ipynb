{
  "nbformat": 4,
  "nbformat_minor": 0,
  "metadata": {
    "colab": {
      "name": "trabai github.ipynb",
      "version": "0.3.2",
      "provenance": [],
      "collapsed_sections": []
    },
    "kernelspec": {
      "name": "python3",
      "display_name": "Python 3"
    }
  },
  "cells": [
    {
      "cell_type": "code",
      "metadata": {
        "id": "I8vTwMa7U_Nu",
        "colab_type": "code",
        "outputId": "75b7ffd9-2f12-4eb9-f779-fc9d53f26aa0",
        "colab": {
          "base_uri": "https://localhost:8080/",
          "height": 399
        }
      },
      "source": [
        "!pip install pygithub\n",
        "!pip install networkx"
      ],
      "execution_count": 0,
      "outputs": [
        {
          "output_type": "stream",
          "text": [
            "Collecting pygithub\n",
            "\u001b[?25l  Downloading https://files.pythonhosted.org/packages/f7/48/ec5ef5239f3a4043ee7e07b454b5f3a024a5f22a4e585400ac6caa22c3c4/PyGithub-1.43.7.tar.gz (107kB)\n",
            "\u001b[K     |████████████████████████████████| 112kB 2.8MB/s \n",
            "\u001b[?25hCollecting deprecated (from pygithub)\n",
            "  Downloading https://files.pythonhosted.org/packages/9f/7a/003fa432f1e45625626549726c2fbb7a29baa764e9d1fdb2323a5d779f8a/Deprecated-1.2.5-py2.py3-none-any.whl\n",
            "Collecting pyjwt (from pygithub)\n",
            "  Downloading https://files.pythonhosted.org/packages/87/8b/6a9f14b5f781697e51259d81657e6048fd31a113229cf346880bb7545565/PyJWT-1.7.1-py2.py3-none-any.whl\n",
            "Requirement already satisfied: requests>=2.14.0 in /usr/local/lib/python3.6/dist-packages (from pygithub) (2.21.0)\n",
            "Requirement already satisfied: wrapt<2,>=1 in /usr/local/lib/python3.6/dist-packages (from deprecated->pygithub) (1.11.1)\n",
            "Requirement already satisfied: idna<2.9,>=2.5 in /usr/local/lib/python3.6/dist-packages (from requests>=2.14.0->pygithub) (2.8)\n",
            "Requirement already satisfied: chardet<3.1.0,>=3.0.2 in /usr/local/lib/python3.6/dist-packages (from requests>=2.14.0->pygithub) (3.0.4)\n",
            "Requirement already satisfied: certifi>=2017.4.17 in /usr/local/lib/python3.6/dist-packages (from requests>=2.14.0->pygithub) (2019.3.9)\n",
            "Requirement already satisfied: urllib3<1.25,>=1.21.1 in /usr/local/lib/python3.6/dist-packages (from requests>=2.14.0->pygithub) (1.24.3)\n",
            "Building wheels for collected packages: pygithub\n",
            "  Building wheel for pygithub (setup.py) ... \u001b[?25l\u001b[?25hdone\n",
            "  Stored in directory: /root/.cache/pip/wheels/41/a2/13/f40c7a91db4b3743ef1830234526054d62f8c502510f3eb18a\n",
            "Successfully built pygithub\n",
            "Installing collected packages: deprecated, pyjwt, pygithub\n",
            "Successfully installed deprecated-1.2.5 pygithub-1.43.7 pyjwt-1.7.1\n",
            "Requirement already satisfied: networkx in /usr/local/lib/python3.6/dist-packages (2.3)\n",
            "Requirement already satisfied: decorator>=4.3.0 in /usr/local/lib/python3.6/dist-packages (from networkx) (4.4.0)\n"
          ],
          "name": "stdout"
        }
      ]
    },
    {
      "cell_type": "markdown",
      "metadata": {
        "id": "mhTyRcjJgdgv",
        "colab_type": "text"
      },
      "source": [
        "https://www.webpages.uidaho.edu/~stevel/504/Mining-the-Social-Web-2nd-Edition.pdf"
      ]
    },
    {
      "cell_type": "code",
      "metadata": {
        "id": "73dL1pb7VWYo",
        "colab_type": "code",
        "colab": {}
      },
      "source": [
        "from github import Github\n",
        "import networkx as nx\n",
        "import json\n",
        "\n",
        "\n",
        "def montar_graph(nome_repo,graph):\n",
        "  \n",
        "  nx.set_node_attributes(graph,'qt_contr',1)\n",
        "  lista_repo = [nome_repo]\n",
        "\n",
        "  g = Github('0428b90dab5c697f539be37dd97e8ec9204221bd')\n",
        "  with open('countries.json', 'r') as f:\n",
        "      data=f.read()\n",
        "  paises = json.loads(data)\n",
        "  i = 0\n",
        "\n",
        "  try:\n",
        "    repo =g.get_repo(nome_repo)\n",
        "    i = 0\n",
        "    graph.add_node(repo.name)\n",
        "    graph.node[repo.name][\"qt_contr\"] = 0\n",
        "    for user in repo.get_contributors():\n",
        "      i=i+1\n",
        "      if(i >500):\n",
        "        break\n",
        "      graph.node[repo.name][\"qt_contr\"] = graph.node[repo.name][\"qt_contr\"] +1\n",
        "\n",
        "      if(user.location is not None):\n",
        "\n",
        "        place = user.location.replace(\" \",\"\").split(\",\") \n",
        "        for pla in place:\n",
        "          if(pla in paises.keys() ):\n",
        "\n",
        "            if(graph.has_node(pla)):\n",
        "              graph.node[pla][\"qt_contr\"] = graph.node[pla][\"qt_contr\"] +1\n",
        "              break\n",
        "            else:\n",
        "              graph.add_node(pla)\n",
        "              graph.node[pla][\"qt_contr\"] = 1\n",
        "              graph.add_edge(repo.name,pla)\n",
        "              break\n",
        "\n",
        "          else:\n",
        "            for key,value in paises.items():\n",
        "              if(pla in paises[key] ):\n",
        "                  if(graph.has_node(key)):\n",
        "                    graph.node[key][\"qt_contr\"] = graph.node[key][\"qt_contr\"] +1\n",
        "\n",
        "                  else:\n",
        "                    graph.add_node(key)\n",
        "                    graph.node[key][\"qt_contr\"] = 1\n",
        "                    graph.add_edge(repo.name,key)\n",
        "\n",
        "\n",
        "\n",
        "  except Exception as ex:\n",
        "     print(ex)\n",
        "\n"
      ],
      "execution_count": 0,
      "outputs": []
    },
    {
      "cell_type": "code",
      "metadata": {
        "id": "eqEmDpMqZx7i",
        "colab_type": "code",
        "colab": {}
      },
      "source": [
        "graph_cpython = nx.Graph()\n",
        "montar_graph(\"python/cpython\",graph_cpython)\n",
        "nx.write_graphml(graph_cpython,\"cpython_countries.graphml\")"
      ],
      "execution_count": 0,
      "outputs": []
    },
    {
      "cell_type": "code",
      "metadata": {
        "id": "bY3_ubeW5ZnK",
        "colab_type": "code",
        "colab": {}
      },
      "source": [
        "graph_swift = nx.Graph()\n",
        "montar_graph(\"apple/swift\",graph_swift)\n",
        "nx.write_graphml(graph_swift,\"swift_countries.graphml\")"
      ],
      "execution_count": 0,
      "outputs": []
    },
    {
      "cell_type": "code",
      "metadata": {
        "id": "_pUOjXYtQwjC",
        "colab_type": "code",
        "colab": {}
      },
      "source": [
        "graph_go = nx.Graph()\n",
        "montar_graph(\"golang/go\",graph_go)\n",
        "nx.write_graphml(graph_go,\"go_countries.graphml\")\n"
      ],
      "execution_count": 0,
      "outputs": []
    }
  ]
}